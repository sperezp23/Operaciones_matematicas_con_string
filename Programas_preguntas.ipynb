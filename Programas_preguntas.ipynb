{
  "nbformat": 4,
  "nbformat_minor": 0,
  "metadata": {
    "colab": {
      "provenance": [],
      "authorship_tag": "ABX9TyMDxexjrNfPpyUvckngM6wU",
      "include_colab_link": true
    },
    "kernelspec": {
      "name": "python3",
      "display_name": "Python 3"
    },
    "language_info": {
      "name": "python"
    }
  },
  "cells": [
    {
      "cell_type": "markdown",
      "metadata": {
        "id": "view-in-github",
        "colab_type": "text"
      },
      "source": [
        "<a href=\"https://colab.research.google.com/github/sperezp23/Operaciones_matematicas_con_string/blob/main/Programas_preguntas.ipynb\" target=\"_parent\"><img src=\"https://colab.research.google.com/assets/colab-badge.svg\" alt=\"Open In Colab\"/></a>"
      ]
    },
    {
      "cell_type": "markdown",
      "source": [
        "<p><a name=\"contenido\"></a></p>\n",
        "\n",
        "# **PROGRAMAS_PREGUNTAS**\n",
        "\n",
        "# **Contenido**\n",
        "- <a href=\"#bharskara\">Ecuación de Bharskara</a><br>\n",
        "- <a href=\"#Mag_vector\">Magnitud de un vector</a><br>\n",
        "- <a href=\"#rotacional\">Producto Cruz/Rotacional</a><br>\n",
        "- <a href=\"#divergencia\">Producto Punto/Divergencia</a><br>\n",
        "- <a href=\"#gradiente\">Gradiente/Laplaciano</a><br>\n",
        "- <a href=\"#escalar\">Multiplicación por un escalar</a><br>\n",
        "- <a href=\"#int_dev_vec\">Integral/Derivada de vectores</a><br>\n",
        "- <a href=\"#sum_res_vec\">Suma/Resta de vectores</a><br>\n",
        "- <a href=\"#int_mult\">Integrales Multiples</a><br>\n",
        "- <a href=\"#sumatorias\">Sumatorias</a><br>\n",
        "- <a href=\"#polinomio\">Polinomio de grado n</a><br>\n",
        "- <a href=\"#ED\">Ecuación diferencial de orden n</a><br>"
      ],
      "metadata": {
        "id": "wNMq_08tU2GP"
      }
    },
    {
      "cell_type": "markdown",
      "source": [
        "<p><a name=\"bharskara\"></a></p>\n",
        "\n",
        "# **ECUACIÓN DE BHARSKARA**\n",
        "\n",
        "<a href=\"#contenido\">Volver al contenido</a><br>"
      ],
      "metadata": {
        "id": "M2qRnc0O0pd_"
      }
    },
    {
      "cell_type": "code",
      "source": [
        "# %% Ecuación de Bharskara\n",
        "def bharskara(a=-1,b=2,c=3):\n",
        "  t1 = f'(-({b})+sqrt({b}^2-4({a})({c})))/(2({a}))'\n",
        "  x1 = (-b+((b**2)-4*a*c)**(0.5))/(2*a)\n",
        "  t2 = f'(-({b})-sqrt({b}^2-4({a})({c})))/(2({a}))'\n",
        "  x2 = (-b-((b**2)-4*a*c)**(0.5))/(2*a)\n",
        "\n",
        "  return f'Texto_1:\\n{t1}\\n\\nSolución_1:\\n{x1:.4f}\\n{\"-\"*40}\\n\\nTexto_2:\\n{t2}\\n\\nSolución_2:\\n{x2:.4f}'\n",
        "\n",
        "a=1\n",
        "b=-4\n",
        "c=-21\n",
        "\n",
        "print(bharskara(a,b,c))"
      ],
      "metadata": {
        "id": "WM4khQCT0ntH"
      },
      "execution_count": null,
      "outputs": []
    },
    {
      "cell_type": "markdown",
      "source": [
        "<p><a name=\"Mag_vector\"></a></p>\n",
        "\n",
        "# **MAGNITUD DE UN VECTOR**\n",
        "\n",
        "<a href=\"#contenido\">Volver al contenido</a>"
      ],
      "metadata": {
        "id": "IQfglbL6j047"
      }
    },
    {
      "cell_type": "code",
      "source": [
        "# %% MAGNITUD VECTOR NUMERICO\n",
        "\n",
        "def magnitud_vector(a=[1,1,0]):\n",
        "\n",
        "  mag0 = f'sqrt(({a[0]})^2 + ({a[1]})^2 + ({a[2]})^2)'\n",
        "  mag1 = f'sqrt({a[0]**2} + {a[1]**2} + {a[2]**2})'\n",
        "  mag2 = f'sqrt({(a[0]**2)+(a[1]**2)+(a[2]**2)})'\n",
        "  mag3 = f'{((a[0]**2)+(a[1]**2)+(a[2]**2))**0.5:.4f}'\n",
        "\n",
        "  return f'Resultado:\\n{mag0}\\n{mag1}\\n{mag2}\\n{mag3}'\n",
        "\n",
        "a=[3,-1,2]\n",
        "print(magnitud_vector(a))"
      ],
      "metadata": {
        "id": "xXXTp7gakaPl",
        "colab": {
          "base_uri": "https://localhost:8080/"
        },
        "outputId": "f676bdf4-251a-471d-9751-56ba1f9cbf64"
      },
      "execution_count": null,
      "outputs": [
        {
          "output_type": "stream",
          "name": "stdout",
          "text": [
            "Resultado:\n",
            "sqrt((3)^2 + (-1)^2 + (2)^2)\n",
            "sqrt(9 + 1 + 4)\n",
            "sqrt(14)\n",
            "3.7417\n"
          ]
        }
      ]
    },
    {
      "cell_type": "code",
      "source": [
        "# %% MAGNITUD VECTOR LETRAS\n",
        "\n",
        "def magnitud_vector(a=['1','1','1']):\n",
        "\n",
        "  mag0 = f'sqrt(({a[0]})^2 + ({a[1]})^2 + ({a[2]})^2)'\n",
        "  mag1 = mag0.replace(\"-\",\"\")\n",
        "\n",
        "  return f'{mag0}\\n{mag1}'\n",
        "\n",
        "a=['-20/3','-38/3','-10/3']\n",
        "\n",
        "print(magnitud_vector(a))"
      ],
      "metadata": {
        "id": "OfjRf1fD7AG5",
        "colab": {
          "base_uri": "https://localhost:8080/"
        },
        "outputId": "8fb3a88c-aae5-475b-a606-1f5b592d84e1"
      },
      "execution_count": null,
      "outputs": [
        {
          "output_type": "stream",
          "name": "stdout",
          "text": [
            "sqrt((-20/3)^2 + (-38/3)^2 + (-10/3)^2)\n",
            "sqrt((20/3)^2 + (38/3)^2 + (10/3)^2)\n"
          ]
        }
      ]
    },
    {
      "cell_type": "code",
      "source": [
        "magnitud_vector(a).replace(\"-\",\"\")"
      ],
      "metadata": {
        "colab": {
          "base_uri": "https://localhost:8080/",
          "height": 35
        },
        "id": "1diWLNsykKzd",
        "outputId": "324f07b7-bef4-43c8-d0a3-eb511b8fd15c"
      },
      "execution_count": null,
      "outputs": [
        {
          "output_type": "execute_result",
          "data": {
            "text/plain": [
              "'sqrt((20/3)^2 + (38/3)^2 + (10/3)^2)'"
            ],
            "application/vnd.google.colaboratory.intrinsic+json": {
              "type": "string"
            }
          },
          "metadata": {},
          "execution_count": 12
        }
      ]
    },
    {
      "cell_type": "markdown",
      "source": [
        "<p><a name=\"rotacional\"></a></p>\n",
        "\n",
        "# **PRODUCTO CRUZ / ROTACIONAL**\n",
        "\n",
        "<a href=\"#contenido\">Volver al contenido</a><br>"
      ],
      "metadata": {
        "id": "mBGNmvTahBsp"
      }
    },
    {
      "cell_type": "code",
      "source": [
        "# %% PRODUCTO CRUZ NUMERICO\n",
        "import numpy as np\n",
        "\n",
        "def producto_cruz_num(a=[1,0,0],b=[0,1,0]):\n",
        "\n",
        "  axb0 = \"{\"+':|[hat(cc\"i\"),hat(cc\"j\"),hat(cc\"k\")],{0},{1}|:'.format(a,b)+\"}\"\n",
        "  axb1 = f'(({a[1]:})({b[2]:})-({b[1]:})({a[2]:}))hat(cc\"i\")-(({a[0]:})({b[2]:})-({b[0]:})({a[2]:}))hat(cc\"j\")+(({a[0]:})({b[1]:})-({b[0]:})({a[1]:}))hat(cc\"k\")'\n",
        "  axb2 = f'(({a[1]*b[2]:})-({b[1]*a[2]:}))hat(cc\"i\")-(({a[0]*b[2]:})-({b[0]*a[2]:}))hat(cc\"j\")+(({a[0]*b[1]:})-({b[0]*a[1]:}))hat(cc\"k\")'\n",
        "  axb3 = f'({a[1]*b[2]-b[1]*a[2]:})hat(cc\"i\")-({a[0]*b[2]-b[0]*a[2]:})hat(cc\"j\")+({a[0]*b[1]-b[0]*a[1]:})hat(cc\"k\")'\n",
        "  axb4 = f'[({a[1]*b[2]-b[1]*a[2]:}),(-({a[0]*b[2]-b[0]*a[2]:})),({a[0]*b[1]-b[0]*a[1]:})]'\n",
        "\n",
        "  return f'Determinante:\\n{axb0}\\n\\nResultado:\\n{axb1}\\n{axb2}\\n{axb3}\\n{axb4}'\n",
        "\n",
        "a=[1,4,-1]\n",
        "b=[3,-1,2]\n",
        "\n",
        "print(producto_cruz_num(b,a))"
      ],
      "metadata": {
        "id": "w6Up5h7L5Wa6",
        "colab": {
          "base_uri": "https://localhost:8080/"
        },
        "outputId": "5b882920-44cd-46fb-cebb-76c6dfc2f79d"
      },
      "execution_count": null,
      "outputs": [
        {
          "output_type": "stream",
          "name": "stdout",
          "text": [
            "Determinante:\n",
            "{:|[hat(cc\"i\"),hat(cc\"j\"),hat(cc\"k\")],[3, -1, 2],[1, 4, -1]|:}\n",
            "\n",
            "Resultado:\n",
            "((-1)(-1)-(4)(2))hat(cc\"i\")-((3)(-1)-(1)(2))hat(cc\"j\")+((3)(4)-(1)(-1))hat(cc\"k\")\n",
            "((1)-(8))hat(cc\"i\")-((-3)-(2))hat(cc\"j\")+((12)-(-1))hat(cc\"k\")\n",
            "(-7)hat(cc\"i\")-(-5)hat(cc\"j\")+(13)hat(cc\"k\")\n",
            "[(-7),(-(-5)),(13)]\n"
          ]
        }
      ]
    },
    {
      "cell_type": "code",
      "source": [
        "# %% PRODUCTO CRUZ LETRAS\n",
        "def producto_cruz(a=['a','b','c'],b=['d','e','f']):\n",
        "\n",
        "  axb1 = \"{\"+':|[hat(cc\"i\"),hat(cc\"j\"),hat(cc\"k\")],{0},{1}|:'.format(a,b).replace(\"'\",\"\")+\"}\"\n",
        "  axb2 = f'(({a[1]})({b[2]})-({b[1]})({a[2]}))hat(cc\"i\")-(({a[0]})({b[2]})-({b[0]})({a[2]}))hat(cc\"j\")+(({a[0]})({b[1]})-({b[0]})({a[1]}))hat(cc\"k\")'\n",
        "  axb3 = f'[(({a[1]})({b[2]})-({b[1]})({a[2]})),(-(({a[0]})({b[2]})-({b[0]})({a[2]}))),(({a[0]})({b[1]})-({b[0]})({a[1]}))]'\n",
        "\n",
        "  return f'Determinante:\\n{axb1}\\n\\nResultado:\\n{axb2}\\n{axb3}'\n",
        "\n",
        "a=[\"ue^{uv}\",\"e^{u+v}\", \"e^{u+v+w}\"]\n",
        "b=[\"0\", \"0\", \"e^{u+v+w}\"]\n",
        "\n",
        "print(producto_cruz(a,b))"
      ],
      "metadata": {
        "id": "EzBs-31Q7IEX",
        "colab": {
          "base_uri": "https://localhost:8080/"
        },
        "outputId": "2b0cfa75-1fe5-4dd2-cdb5-4bf02c2e4578"
      },
      "execution_count": null,
      "outputs": [
        {
          "output_type": "stream",
          "name": "stdout",
          "text": [
            "Determinante:\n",
            "{:|[hat(cc\"i\"),hat(cc\"j\"),hat(cc\"k\")],[ue^{uv}, e^{u+v}, e^{u+v+w}],[0, 0, e^{u+v+w}]|:}\n",
            "\n",
            "Resultado:\n",
            "((e^{u+v})(e^{u+v+w})-(0)(e^{u+v+w}))hat(cc\"i\")-((ue^{uv})(e^{u+v+w})-(0)(e^{u+v+w}))hat(cc\"j\")+((ue^{uv})(0)-(0)(e^{u+v}))hat(cc\"k\")\n",
            "[((e^{u+v})(e^{u+v+w})-(0)(e^{u+v+w})),(-((ue^{uv})(e^{u+v+w})-(0)(e^{u+v+w}))),((ue^{uv})(0)-(0)(e^{u+v}))]\n"
          ]
        }
      ]
    },
    {
      "cell_type": "code",
      "source": [
        "# %% ROTACIONAL\n",
        "def rotacional(a=['a','b','c']):\n",
        "\n",
        "  b=['partial/(partial x)','partial/(partial y)','partial/(partial z)']\n",
        "  axb1 = \"{\"+':|[hat(cc\"i\"),hat(cc\"j\"),hat(cc\"k\")],{0},{1}|:'.format(b,a).replace(\"'\",\"\")+\"}\"\n",
        "  axb2 = f'({b[1]}({a[2]})-{b[2]}({a[1]}))hat(cc\"i\")-({b[0]}({a[2]})-{b[2]}({a[0]}))hat(cc\"j\")+({b[0]}({a[1]})-{b[1]}({a[0]}))hat(cc\"k\")'\n",
        "  axb3 = \"{\" + f'({b[1]}({a[2]})-{b[2]}({a[1]})),-({b[0]}({a[2]})-{b[2]}({a[0]})),({b[0]}({a[1]})-{b[1]}({a[0]})):'+\"}\"\n",
        "\n",
        "  return f'Determinante:\\n{axb1}\\n\\nResultado:\\n{axb2}\\n{axb3}'\n",
        "\n",
        "a=['(yz)/(x^ 2 + y^ 2 + z^ 2)','(-xz)/(x^ 2 + y^ 2 + z^ 2)','(xy)/(x^ 2 + y^ 2 + z^ 2)']\n",
        "\n",
        "print(rotacional(a))"
      ],
      "metadata": {
        "id": "zqM-lVIVcHHs"
      },
      "execution_count": null,
      "outputs": []
    },
    {
      "cell_type": "markdown",
      "source": [
        "<p><a name=\"divergencia\"></a></p>\n",
        "\n",
        "# **PRODUCTO PUNTO / DIVERGENCIA**\n",
        "\n",
        "<a href=\"#contenido\">Volver al contenido</a><br>"
      ],
      "metadata": {
        "id": "iW3aH8sZgvg8"
      }
    },
    {
      "cell_type": "code",
      "source": [
        "# %% PRODUCTO PUNTO NUMERICO\n",
        "def producto_punto_num(a=[1,2,3],b=[4,5,6]):\n",
        "\n",
        "  cdot0 = f'[({a[0]}),({a[1]}),({a[2]})]cdot[({b[0]}),({b[1]}),({b[2]})]'\n",
        "  cdot1 = f'({a[0]})({b[0]})+({a[1]})({b[1]})+({a[2]})({b[2]})'\n",
        "  cdot2 = f'{a[0]*b[0]}+({a[1]*b[1]})+({a[2]*b[2]})'\n",
        "  cdot3 = f'{a[0]*b[0]+a[1]*b[1]+a[2]*b[2]}'\n",
        "\n",
        "  return f'Producto punto:\\n{cdot0}\\n{cdot1}\\n{cdot2}\\n{cdot3}'\n",
        "\n",
        "a=[2,2,1]\n",
        "b=[2,2,1]\n",
        "\n",
        "print(producto_punto_num(a,b))"
      ],
      "metadata": {
        "id": "kvOJrjIqfq2t"
      },
      "execution_count": null,
      "outputs": []
    },
    {
      "cell_type": "code",
      "source": [
        "# %% PRODUCTO PUNTO LETRAS\n",
        "def producto_punto(a=['a','b','c'],b=['d','e','f']):\n",
        "\n",
        "  cdot0 = f'[({a[0]}),({a[1]}),({a[2]})]cdot[({b[0]}),({b[1]}),({b[2]})]'\n",
        "  cdot1 = f'({a[0]})({b[0]})+({a[1]})({b[1]})+({a[2]})({b[2]})'.replace(\"'\",\"\")\n",
        "\n",
        "  return f'Producto punto:\\n{cdot0}\\n{cdot1}'\n",
        "\n",
        "a=['-4','12', '']\n",
        "b=['2sqrt(53)', '-7sqrt(53)', '']\n",
        "\n",
        "print(producto_punto(a,b))"
      ],
      "metadata": {
        "id": "_Wucnx8Ge7c-"
      },
      "execution_count": null,
      "outputs": []
    },
    {
      "cell_type": "code",
      "source": [
        "# %% DIVERGENCIA\n",
        "def divergencia(a=['a','b','c']):\n",
        "\n",
        "  b=['partial/(partial x)','partial/(partial y)','partial/(partial z)']\n",
        "  div = f'{b[0]}({a[0]})+{b[1]}({a[1]})+{b[2]}({a[2]})'.replace(\"'\",\"\")\n",
        "\n",
        "  return f'Divergencia:\\n{div}'\n",
        "\n",
        "a=['x^3','y^3','z^3']\n",
        "\n",
        "print(divergencia(a))"
      ],
      "metadata": {
        "id": "-jXrGq2ieBK-",
        "colab": {
          "base_uri": "https://localhost:8080/"
        },
        "outputId": "fd3b2b40-e5b6-4c7d-95a7-d8ce318a1ce5"
      },
      "execution_count": null,
      "outputs": [
        {
          "output_type": "stream",
          "name": "stdout",
          "text": [
            "Divergencia:\n",
            "partial/(partial x)(x^3)+partial/(partial y)(y^3)+partial/(partial z)(z^3)\n"
          ]
        }
      ]
    },
    {
      "cell_type": "markdown",
      "source": [
        "<p><a name=\"gradiente\"></a></p>\n",
        "\n",
        "# **GRADIENTE / LAPLACIANO**\n",
        "\n",
        "<a href=\"#contenido\">Volver al contenido</a><br>"
      ],
      "metadata": {
        "id": "HNLhx29-wkVc"
      }
    },
    {
      "cell_type": "code",
      "source": [
        "# %% GRADIENTE\n",
        "def gradiente(a='f(x,y)'):\n",
        "\n",
        "  b=['partial/(partial x)','partial/(partial y)','partial/(partial z)']\n",
        "  nabla = f'{b[0]}({a})hat(cc\"i\")+{b[1]}({a})hat(cc\"j\")+{b[2]}({a})hat(cc\"k\")'\n",
        "\n",
        "  return f'Gradiente:\\n{nabla}'\n",
        "\n",
        "a='-4xy+4y^{2}'\n",
        "\n",
        "print(gradiente(a))"
      ],
      "metadata": {
        "id": "cQPCkOCcs8k0",
        "colab": {
          "base_uri": "https://localhost:8080/"
        },
        "outputId": "3897ad19-33e8-4df6-d534-c893bd389c0c"
      },
      "execution_count": null,
      "outputs": [
        {
          "output_type": "stream",
          "name": "stdout",
          "text": [
            "Gradiente:\n",
            "partial/(partial x)(-4xy+4y^{2})hat(cc\"i\")+partial/(partial y)(-4xy+4y^{2})hat(cc\"j\")+partial/(partial z)(-4xy+4y^{2})hat(cc\"k\")\n"
          ]
        }
      ]
    },
    {
      "cell_type": "code",
      "source": [
        "# %% LAPLACIANO\n",
        "def laplaciano(a='f(x,y)'):\n",
        "\n",
        "  b=['(partial^2)/(partial x^2)','(partial^2)/(partial y^2)','(partial^2)/(partial z^2)']\n",
        "  nabla = f'{b[0]}({a})+{b[1]}({a})+{b[2]}({a})'\n",
        "\n",
        "  return f'Laplaciano:\\n{nabla}'\n",
        "\n",
        "a='f(x,y)'\n",
        "\n",
        "print(laplaciano(a))"
      ],
      "metadata": {
        "id": "aoGXkKjkvYz6"
      },
      "execution_count": null,
      "outputs": []
    },
    {
      "cell_type": "markdown",
      "source": [
        "<p><a name=\"escalar\"></a></p>\n",
        "\n",
        "# **MULTIPLICACIÓN POR UN ESCALAR**\n",
        "\n",
        "<a href=\"#contenido\">Volver al contenido</a><br>"
      ],
      "metadata": {
        "id": "0b2meXYjflub"
      }
    },
    {
      "cell_type": "code",
      "source": [
        "# %% MULTIPLICACIÓN POR ESCALAR NUMERICO\n",
        "def mult_escalar_num(c = 10,a = [1,2,3]):\n",
        "\n",
        "  vec0 = f'{c}[({a[0]}),({a[1]}),({2})]'\n",
        "  vec1 = f'[({c}({a[0]})),({c}({a[1]})),({c}({a[2]}))]'\n",
        "  vec2 = f'[{c}({a[0]}),{c}({a[1]}),{c}({a[2]})]'\n",
        "  vec3 = f'[{c*a[0]},{c*a[1]},{c*a[2]}]'\n",
        "  vec4= f'({c*a[0]})hat(cc\"i\")+({c*a[1]})hat(cc\"j\")+({c*a[2]})hat(cc\"k\")'\n",
        "\n",
        "  return f'Vector escalado:\\n{vec0}\\n{vec1}\\n{vec2}\\n{vec3}\\n{vec4}'\n",
        "\n",
        "c =\n",
        "a = [0,10,15]\n",
        "\n",
        "print(mult_escalar_num(c,a))"
      ],
      "metadata": {
        "id": "r7quPSGHf4vx"
      },
      "execution_count": null,
      "outputs": []
    },
    {
      "cell_type": "code",
      "source": [
        "# %% MULTIPLICACIÓN POR ESCALAR LETRAS\n",
        "def mult_escalar(c = 'k',a = ['a','b','c']):\n",
        "\n",
        "  vec0 = f'{c}[({a[0]}),({a[1]}),({a[2]})]'\n",
        "  vec1 = f'[({c}({a[0]})),({c}({a[1]})),({c}({a[2]}))]'\n",
        "  vec2= f'{c}({a[0]})hat(cc\"i\")+{c}({a[1]})hat(cc\"j\")+{c}({a[2]})hat(cc\"k\")'\n",
        "\n",
        "  return f'Vector escalado:\\n{vec0}\\n{vec1}\\n{vec2}'\n",
        "\n",
        "c = ''\n",
        "a = ['8/(3)','29/(3)','16/(3)']\n",
        "print(mult_escalar(c,a))"
      ],
      "metadata": {
        "id": "Iztai8PckAAN",
        "colab": {
          "base_uri": "https://localhost:8080/"
        },
        "outputId": "b6435b7e-9565-406c-805c-00215b36593b"
      },
      "execution_count": null,
      "outputs": [
        {
          "output_type": "stream",
          "name": "stdout",
          "text": [
            "Vector escalado:\n",
            "[(8/(3)),(29/(3)),(16/(3))]\n",
            "[((8/(3))),((29/(3))),((16/(3)))]\n",
            "(8/(3))hat(cc\"i\")+(29/(3))hat(cc\"j\")+(16/(3))hat(cc\"k\")\n"
          ]
        }
      ]
    },
    {
      "cell_type": "markdown",
      "source": [
        "<p><a name=\"int_dev_vec\"></a></p>\n",
        "\n",
        "# **INTEGRALES / DERIVADAS DE VECTORES**\n",
        "\n",
        "<a href=\"#contenido\">Volver al contenido</a><br>"
      ],
      "metadata": {
        "id": "xjx_JZ6GC9VH"
      }
    },
    {
      "cell_type": "code",
      "source": [
        "# %% DERIVADA DE UN VECTOR\n",
        "def derivada_vec(variable = 't',a = ['a','b','c']):\n",
        "\n",
        "  c = f'd/(d{variable})'\n",
        "  vec0 = f'{c}[({a[0]}),({a[1]}),({a[2]})]'\n",
        "  vec1 = f'[{c}({a[0]}),{c}({a[1]}),{c}({a[2]})]'\n",
        "  vec2 = f'({c}({a[0]}))hat(cc\"i\")+({c}({a[1]}))hat(cc\"j\")+({c}({a[2]}))hat(cc\"k\")'\n",
        "\n",
        "  return f'Vector Tangente:\\n{vec0}\\n{vec1}\\n{vec2}'\n",
        "\n",
        "variable = 't'\n",
        "a = ['4', '-2', '0']\n",
        "\n",
        "print(derivada_vec(variable,a))"
      ],
      "metadata": {
        "id": "3wGiPPQckf5w",
        "colab": {
          "base_uri": "https://localhost:8080/"
        },
        "outputId": "55a151a5-14c8-4cc2-ec5f-35ac6ea35ad2"
      },
      "execution_count": null,
      "outputs": [
        {
          "output_type": "stream",
          "name": "stdout",
          "text": [
            "Vector Tangente:\n",
            "d/(dt)[(4),(-2),(0)]\n",
            "[d/(dt)(4),d/(dt)(-2),d/(dt)(0)]\n",
            "(d/(dt)(4))hat(cc\"i\")+(d/(dt)(-2))hat(cc\"j\")+(d/(dt)(0))hat(cc\"k\")\n"
          ]
        }
      ]
    },
    {
      "cell_type": "code",
      "source": [
        "# %% DERIVADA PARCIAL DE UN VECTOR\n",
        "def derivada_parcial_vec(variable = 't',a = ['a','b','c']):\n",
        "\n",
        "  c = f'partial/(partial{variable})'\n",
        "  vec0 = f'{c}[({a[0]}),({a[1]}),({a[2]})]'\n",
        "  vec1 = f'[({c}({a[0]})),({c}({a[1]})),({c}({a[2]}))]'\n",
        "  vec2 = f'[{c}({a[0]}),{c}({a[1]}),{c}({a[2]})]'\n",
        "  vec3 = f'({c}({a[0]}))hat(cc\"i\")+({c}({a[1]}))hat(cc\"j\")+({c}({a[2]}))hat(cc\"k\")'\n",
        "\n",
        "\n",
        "  return f'Vector derivado:\\n{vec0}\\n{vec1}\\n{vec2}\\n{vec3}'\n",
        "\n",
        "variable = 'u'\n",
        "a = ['x','y','z']\n",
        "\n",
        "print(derivada_parcial_vec(variable,a))"
      ],
      "metadata": {
        "id": "uj3rNCyglIch",
        "colab": {
          "base_uri": "https://localhost:8080/"
        },
        "outputId": "f249dd96-9d40-41eb-cc1d-62e588ef3b4f"
      },
      "execution_count": null,
      "outputs": [
        {
          "output_type": "stream",
          "name": "stdout",
          "text": [
            "Vector derivado:\n",
            "partial/(partialu)[(x),(y),(z)]\n",
            "[(partial/(partialu)(x)),(partial/(partialu)(y)),(partial/(partialu)(z))]\n",
            "[partial/(partialu)(x),partial/(partialu)(y),partial/(partialu)(z)]\n",
            "(partial/(partialu)(x))hat(cc\"i\")+(partial/(partialu)(y))hat(cc\"j\")+(partial/(partialu)(z))hat(cc\"k\")\n"
          ]
        }
      ]
    },
    {
      "cell_type": "code",
      "source": [
        "# %% INTEGRAL DE UN VECTOR\n",
        "def integral_vec(variable = 't',a = ['a','b','c']):\n",
        "\n",
        "  c_0 = 'int'\n",
        "  c_1 = f'd{variable}'\n",
        "  vec0 = f'{c_0}[({a[0]}),({a[1]}),({a[2]})]{c_1}'\n",
        "  vec1 = f'[({c_0}({a[0]}){c_1}),({c_0}({a[1]}){c_1}),({c_0}({a[2]}){c_1})]'\n",
        "  vec2 = f'[{c_0}({a[0]}){c_1},{c_0}({a[1]}){c_1},{c_0}({a[2]}){c_1}]'\n",
        "\n",
        "  return f'Vector integrado:\\n{vec0}\\n{vec1}\\n{vec2}'\n",
        "\n",
        "variable = 'x'\n",
        "a = ['a','b','c']\n",
        "\n",
        "print(integral_vec(variable,a))"
      ],
      "metadata": {
        "id": "Ea4NniyPlgF_"
      },
      "execution_count": null,
      "outputs": []
    },
    {
      "cell_type": "code",
      "source": [
        "# %% INTEGRAL DEFINIDA DE UN VECTOR\n",
        "def integral_def_vec(variable = 't',a = ['a','b','c'],limts = ['t_f','t_0']):\n",
        "\n",
        "  lim_sup=limts[0]\n",
        "  lim_inf=limts[1]\n",
        "\n",
        "  c_0 = f'int_({lim_inf})^({lim_sup})'\n",
        "  c_1 = f'd{variable}'\n",
        "  vec0 = f'{c_0}[({a[0]}),({a[1]}),({a[2]})]{c_1}'\n",
        "  vec1 = f'[{c_0}({a[0]}){c_1},{c_0}({a[1]}){c_1},{c_0}({a[2]}){c_1}]'\n",
        "\n",
        "  return f'Vector integrado:\\n{vec0}\\n{vec1}'\n",
        "\n",
        "variable = 'x'\n",
        "a = ['a','b','c']\n",
        "limts = [f'{variable}_f',f'{variable}_0']\n",
        "\n",
        "print(integral_def_vec(variable, a, limts))"
      ],
      "metadata": {
        "id": "wDmCZLSIDLHp"
      },
      "execution_count": null,
      "outputs": []
    },
    {
      "cell_type": "markdown",
      "source": [
        "<p><a name=\"sum_res_vec\"></a></p>\n",
        "\n",
        "# **SUMA / RESTA DE VECTORES**\n",
        "\n",
        "<a href=\"#contenido\">Volver al contenido</a><br>"
      ],
      "metadata": {
        "id": "StQg1dEinnkB"
      }
    },
    {
      "cell_type": "code",
      "source": [
        "# %% SUMA DE VECTORES NUMERICO\n",
        "def suma_vec_num(a=[1,2,3],b=[1,1,1]):\n",
        "\n",
        "  suma0 = f'[({a[0]}),({a[1]}),({a[2]})]+[({b[0]}),({b[1]}),({b[2]})]'\n",
        "  suma1 = f'[({a[0]}+({b[0]})),({a[1]}+({b[1]})),({a[2]}+({b[2]}))]'\n",
        "  suma2 = f'[({a[0]+b[0]}),({a[1]+b[1]}),({a[2]+b[2]})]'\n",
        "\n",
        "  return f'Suma:\\n{suma0}\\n{suma1}\\n{suma2}'\n",
        "\n",
        "a=[5,7,0]\n",
        "b=[1,1,1]\n",
        "\n",
        "print(suma_vec_num(a,b))"
      ],
      "metadata": {
        "id": "XvwHRjpvn2v9"
      },
      "execution_count": null,
      "outputs": []
    },
    {
      "cell_type": "code",
      "source": [
        "# %% SUMA DE VECTORES LETRAS\n",
        "def suma_vec_(a=['a','b','c'],b=['d','e','f']):\n",
        "\n",
        "  suma0 = f'[({a[0]}),({a[1]}),({a[2]})]+[({b[0]}),({b[1]}),({b[2]})]'\n",
        "  suma1 = f'[({a[0]}+{b[0]}),({a[1]}+{b[1]}),({a[2]}+{b[2]})]'\n",
        "\n",
        "  return f'Suma:\\n{suma0}\\n{suma1}'\n",
        "\n",
        "a=['2a+b','ax+-bx','4ax^2+3bx^2']\n",
        "b=['3c','2cx','5cx^2']\n",
        "\n",
        "print(suma_vec_(a,b))"
      ],
      "metadata": {
        "id": "_cymruYgpMe5"
      },
      "execution_count": null,
      "outputs": []
    },
    {
      "cell_type": "code",
      "source": [
        "# %% RESTA DE VECTORES NUMERICO\n",
        "def resta_vec_num(a=[1,2,3],b=[1,1,1]):\n",
        "\n",
        "  suma0 = f'[({a[0]}),({a[1]}),({a[2]})]-[({b[0]}),({b[1]}),({b[2]})]'\n",
        "  suma1 = f'[({a[0]}-({b[0]})),({a[1]}-({b[1]})),({a[2]}-({b[2]}))]'\n",
        "  suma2 = f'[({a[0]-b[0]}),({a[1]-b[1]}),({a[2]-b[2]})]'\n",
        "  suma3= f'({a[0]-b[0]})hat(cc\"i\")+({a[1]-b[1]})hat(cc\"j\")+({a[2]-b[2]})hat(cc\"k\")'\n",
        "\n",
        "\n",
        "  return f'Resta:\\n{suma0}\\n{suma1}\\n{suma2}\\n{suma3}'\n",
        "\n",
        "a=[8,2,0]\n",
        "b=[6,3,-3]\n",
        "\n",
        "print(resta_vec_num(a,b))"
      ],
      "metadata": {
        "id": "2jATUs0Cpy2J",
        "outputId": "12782584-57b1-444e-9a5c-0b69c502dcec",
        "colab": {
          "base_uri": "https://localhost:8080/"
        }
      },
      "execution_count": null,
      "outputs": [
        {
          "output_type": "stream",
          "name": "stdout",
          "text": [
            "Resta:\n",
            "[(8),(2),(0)]-[(6),(3),(-3)]\n",
            "[(8-(6)),(2-(3)),(0-(-3))]\n",
            "[(2),(-1),(3)]\n",
            "(2)hat(cc\"i\")+(-1)hat(cc\"j\")+(3)hat(cc\"k\")\n"
          ]
        }
      ]
    },
    {
      "cell_type": "code",
      "source": [
        "# %% RESTA DE VECTORES LETRAS\n",
        "def resta_vec(a=['a','b','c'],b=['d','e','f']):\n",
        "\n",
        "  suma0 = f'[({a[0]}),({a[1]}),({a[2]})]-[({b[0]}),({b[1]}),({b[2]})]'\n",
        "  suma1 = f'[({a[0]}-({b[0]})),({a[1]}-({b[1]})),({a[2]}-({b[2]}))]'\n",
        "\n",
        "  return f'Resta:\\n{suma0}\\n{suma1}'\n",
        "\n",
        "a=['-4','-3','2']\n",
        "b=['-20/3','-38/3','-10/3']\n",
        "\n",
        "print(resta_vec(a,b))"
      ],
      "metadata": {
        "id": "Kdnr_R4Nq-19",
        "colab": {
          "base_uri": "https://localhost:8080/"
        },
        "outputId": "365c685f-b4dd-4ed2-fb7a-499ec8bec0df"
      },
      "execution_count": null,
      "outputs": [
        {
          "output_type": "stream",
          "name": "stdout",
          "text": [
            "Resta:\n",
            "[(-4),(-3),(2)]-[(-20/3),(-38/3),(-10/3)]\n",
            "[(-4-(-20/3)),(-3-(-38/3)),(2-(-10/3))]\n"
          ]
        }
      ]
    },
    {
      "cell_type": "code",
      "source": [],
      "metadata": {
        "id": "h2ZLw7zWnlXa"
      },
      "execution_count": null,
      "outputs": []
    },
    {
      "cell_type": "markdown",
      "source": [
        "<p><a name=\"int_mult\"></a></p>\n",
        "\n",
        "# **INTEGRALES MULTIPLES**\n",
        "\n",
        "<a href=\"#contenido\">Volver al contenido</a><br>"
      ],
      "metadata": {
        "id": "PO2a-JoYFLFh"
      }
    },
    {
      "cell_type": "code",
      "source": [
        "# %% INTEGRALES TRIPLES\n",
        "def integral_triple(f='f(x,y,z)',var = ['x','y','z'], limits = [f'x_0',f'x_f',f'y_0',f'y_f',f'z_0',f'z_f']):\n",
        "\n",
        "  int1_lim_sup=limits[3]\n",
        "  int1_lim_inf=limits[2]\n",
        "  int1 = f'int_({int1_lim_inf})^({int1_lim_sup})'\n",
        "\n",
        "  int2_lim_sup=limits[1]\n",
        "  int2_lim_inf=limits[0]\n",
        "  int2 = f'int_({int2_lim_inf})^({int2_lim_sup})'\n",
        "\n",
        "  int3_lim_sup=limits[5]\n",
        "  int3_lim_inf=limits[4]\n",
        "  int3 = f'int_({int3_lim_inf})^({int3_lim_sup})'\n",
        "\n",
        "  int_triple = f'{int3}{int2}{int1}({f})d{var[0]}d{var[1]}d{var[2]}'\n",
        "\n",
        "  return f'Triple integral:\\n{int_triple}'\n",
        "\n",
        "f='r'\n",
        "var = ['y','r',' theta']\n",
        "limits = ['0','2','r^{2}','8-r^{2}','0','2pi']\n",
        "\n",
        "print(integral_triple(f,var,limits))"
      ],
      "metadata": {
        "id": "AJogByljFV2N"
      },
      "execution_count": null,
      "outputs": []
    },
    {
      "cell_type": "code",
      "source": [
        "# %% INTEGRALES DOBLES\n",
        "def integral_doble(f = 'f(x,y)',var = ['x','y'], limits = [f'x_0',f'x_f',f'y_0',f'y_f']):\n",
        "\n",
        "  int1_lim_sup=limits[3]\n",
        "  int1_lim_inf=limits[2]\n",
        "  int1 = f'int_({int1_lim_inf})^({int1_lim_sup})'\n",
        "\n",
        "\n",
        "  int2_lim_sup=limits[1]\n",
        "  int2_lim_inf=limits[0]\n",
        "  int2 = f'int_({int2_lim_inf})^({int2_lim_sup})'\n",
        "\n",
        "  int_doble = f'{int2}{int1}({f})d{var[0]}d{var[1]}'\n",
        "\n",
        "  return f'Triple integral:\\n{int_doble}'\n",
        "\n",
        "f = 'r'\n",
        "var = ['r','theta']\n",
        "limits = [0,\"2pi\",0,5]\n",
        "\n",
        "print(integral_doble(f=f,var=var, limits=limits))"
      ],
      "metadata": {
        "id": "9edZWS5XIBwG"
      },
      "execution_count": null,
      "outputs": []
    },
    {
      "cell_type": "markdown",
      "source": [
        "<p><a name=\"sumatorias\"></a></p>\n",
        "\n",
        "# **SUMATORIAS**\n",
        "\n",
        "<a href=\"#contenido\">Volver al contenido</a><br>"
      ],
      "metadata": {
        "id": "4BQ-iNEzIv9L"
      }
    },
    {
      "cell_type": "code",
      "source": [
        "# %% SUMATORIA\n",
        "def sumatoria(term_gen = 'a_n',limts = ['0','oo']):\n",
        "\n",
        "  inicio= limts[0]\n",
        "  final = limts[1]\n",
        "  sum = f'sum_(n={inicio})^({final}){term_gen}'\n",
        "\n",
        "  return f'Sumatoria:\\n{sum}'\n",
        "\n",
        "term_gen = '(e^(0.3(30000))(0.3(30000))^x)/(x!)'\n",
        "limts = ['0','r']\n",
        "\n",
        "print(sumatoria(term_gen,limts))"
      ],
      "metadata": {
        "id": "Peii_vNWI5iV"
      },
      "execution_count": null,
      "outputs": []
    },
    {
      "cell_type": "markdown",
      "source": [
        "<p><a name=\"polinomio\"></a></p>\n",
        "\n",
        "# **POLINOMIOS DE GRADO N**\n",
        "\n",
        "<a href=\"#contenido\">Volver al contenido</a><br>"
      ],
      "metadata": {
        "id": "UdjpkThwCehg"
      }
    },
    {
      "cell_type": "code",
      "source": [
        "# %% POLINOMIO DE GRADO N\n",
        "def polinomio_n(n = 3,var = 'x',coef = [1,-2,3,-4]):\n",
        "  if n == 1:\n",
        "    return f'({coef[-n-1]}){var}+{coef[-1]}'\n",
        "  else:\n",
        "    return f'({coef[-n-1]}){var}^({n})+' + polinomio_n(n-1,var,coef)\n",
        "\n",
        "n = 3\n",
        "var = 'x'\n",
        "coef=[-2,1,1,1]\n",
        "\n",
        "print(f'Polinomio:\\n{polinomio_n(n,var,coef)}')"
      ],
      "metadata": {
        "id": "5nysrnONCd-R"
      },
      "execution_count": null,
      "outputs": []
    },
    {
      "cell_type": "markdown",
      "source": [
        "<p><a name=\"ED\"></a></p>\n",
        "\n",
        "# **ECUACIÓN DIFERENCIAL LINEAL ORDEN N**\n",
        "\n",
        "<a href=\"#contenido\">Volver al contenido</a><br>"
      ],
      "metadata": {
        "id": "dUcyrfaYbCNl"
      }
    },
    {
      "cell_type": "code",
      "source": [
        "# %% ECUACIÓN DIFERENCIAL LINEAL DE ORDEN N\n",
        "from numpy import ones\n",
        "\n",
        "def polinomio_n(orden = 3,f = 'f',var = 'x',coef = ['a3','a2','a1','a0','k']):\n",
        "  if orden == 1:\n",
        "    return f'({coef[-orden-2]})d/(d{var})[{f}]+({coef[-orden-1]})({f})+({coef[-1]})'\n",
        "  else:\n",
        "    return f'({coef[-orden-2]})(d^{orden})/(d{var}^{orden})[{f}]+' + polinomio_n(orden-1,f,var,coef)\n",
        "\n",
        "orden = 2\n",
        "f = 'f(x)'\n",
        "var = 'x'\n",
        "coef=['1','4','5','0']\n",
        "#coef=list(range(orden+2))[::-1]\n",
        "\n",
        "print(f'ED Lineal:\\n{polinomio_n(orden,f,var,coef)}')"
      ],
      "metadata": {
        "id": "W_TpNTGMbPXr"
      },
      "execution_count": null,
      "outputs": []
    },
    {
      "cell_type": "code",
      "source": [
        "# %% ECUACIÓN DIFERENCIAL LINEAL DE ORDEN N (PRIMADA)\n",
        "from numpy import ones\n",
        "\n",
        "def polinomio_n(orden = 3,f = 'f',var = 'x',coef = ['a3','a2','a1','a0','k']):\n",
        "  prima = \"'\"\n",
        "  if orden == 1:\n",
        "    return f'({coef[-orden-2]}){f}{prima}+({coef[-orden-1]})({f})+({coef[-1]})'\n",
        "  else:\n",
        "    return f'({coef[-orden-2]}){f}{prima*orden}+' + polinomio_n(orden-1,f,var,coef)\n",
        "\n",
        "orden = 2\n",
        "f = 'y'\n",
        "var = 'x'\n",
        "coef=['1','4','5','0']\n",
        "#coef=list(range(orden+2))[::-1]\n",
        "\n",
        "print(f'ED Lineal:\\n{polinomio_n(orden,f,var,coef)}')"
      ],
      "metadata": {
        "id": "_Q0A207UzuUR"
      },
      "execution_count": null,
      "outputs": []
    },
    {
      "cell_type": "code",
      "source": [
        "import numpy as np\n",
        "import matplotlib.pyplot as plt\n",
        "from scipy.special import fresnel\n",
        "\n",
        "v = np.linspace(-4,8,1000)\n",
        "c,s = fresnel(v)\n",
        "f = 0.5*(np.abs(c+0.5)**2 + np.abs(s+0.5)**2)\n",
        "\n",
        "plt.style.use(\"seaborn\")\n",
        "plt.plot(v,f)\n",
        "plt.title(\"Difracción de Fresnel\")\n",
        "plt.xlabel(r'$v$',size = 15)\n",
        "plt.ylabel(r'$\\frac{I}{I_0}$',rotation=0)\n",
        "plt.show()"
      ],
      "metadata": {
        "id": "ch4rulomCbhX"
      },
      "execution_count": null,
      "outputs": []
    },
    {
      "cell_type": "code",
      "source": [
        "import numpy as np\n",
        "import matplotlib.pyplot as plt\n",
        "from scipy.special import ellipk\n",
        "\n",
        "v = np.linspace(0,3,1000)\n",
        "L = 1\n",
        "g = 9.8\n",
        "K = ellipk(np.sin(v/2))\n",
        "f = 4*np.sqrt(L/g)*K\n",
        "\n",
        "plt.style.use(\"seaborn\")\n",
        "plt.plot(v,f)\n",
        "plt.title(\"Pendulo simple\")\n",
        "plt.xlabel(r'$\\theta_0(radianes)$')\n",
        "plt.ylabel(r'T(segundos)',rotation=90)\n",
        "plt.show()"
      ],
      "metadata": {
        "id": "2tSHBsoTH4o-"
      },
      "execution_count": null,
      "outputs": []
    },
    {
      "cell_type": "code",
      "source": [
        "import numpy as np\n",
        "import matplotlib.pyplot as plt\n",
        "\n",
        "n = 20\n",
        "s = np.zeros((n+1))\n",
        "aux = 0\n",
        "\n",
        "for i in np.arange(0,n+1):\n",
        "  aux+=9/4*(1/4)**i\n",
        "  s[i]=aux\n",
        "\n",
        "plt.style.use(\"seaborn\")\n",
        "plt.xlabel(r'$n$')\n",
        "plt.ylabel(r'$S_n$')\n",
        "plt.scatter(np.arange(0,n+1),s)\n",
        "plt.show()"
      ],
      "metadata": {
        "id": "hwzj4vWuwh9m"
      },
      "execution_count": null,
      "outputs": []
    },
    {
      "cell_type": "code",
      "source": [
        "import numpy as np\n",
        "import matplotlib.pyplot as plt\n",
        "\n",
        "n = 20\n",
        "s = np.zeros((n+1))\n",
        "aux = 0\n",
        "\n",
        "for i in np.arange(0,n+1):\n",
        "  aux+=17/3*(-1/2)**i\n",
        "  s[i]=aux\n",
        "\n",
        "plt.style.use(\"seaborn\")\n",
        "plt.xlabel(r'$n$')\n",
        "plt.ylabel(r'$S_n$')\n",
        "plt.scatter(np.arange(0,n+1),s)\n",
        "plt.show()"
      ],
      "metadata": {
        "id": "a7fjCwvv9T66"
      },
      "execution_count": null,
      "outputs": []
    }
  ]
}